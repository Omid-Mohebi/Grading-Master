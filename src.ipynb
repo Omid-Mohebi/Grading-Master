{
 "cells": [
  {
   "cell_type": "code",
   "execution_count": 76,
   "metadata": {},
   "outputs": [],
   "source": [
    "from tensorflow.keras.metrics import MeanSquaredError\n",
    "import numpy as np\n",
    "import pandas as pd\n",
    "from sklearn.preprocessing import StandardScaler\n",
    "import tensorflow as tf\n",
    "from tensorflow.keras.callbacks import EarlyStopping"
   ]
  },
  {
   "cell_type": "code",
   "execution_count": 77,
   "metadata": {},
   "outputs": [
    {
     "data": {
      "text/plain": [
       "array([['Higher', 0.135763480471796, 17, ..., 1, 1, 1],\n",
       "       ['Higher', 1.98992452361276, 0, ..., 0, 0, 1],\n",
       "       [nan, 10.5887148108255, 15, ..., 0, 0, 1],\n",
       "       ...,\n",
       "       ['High School', 5.14192178790224, 5, ..., 0, 0, 0],\n",
       "       [nan, 10.2816139123855, 10, ..., 0, 0, 0],\n",
       "       [nan, 15.6104360551404, 26, ..., 0, 0, 0]], dtype=object)"
      ]
     },
     "execution_count": 77,
     "metadata": {},
     "output_type": "execute_result"
    }
   ],
   "source": [
    "train_data = pd.read_csv('data/train.csv')\n",
    "test_data = pd.read_csv('data/test.csv')\n",
    "X_train = train_data.iloc[:, 4:-1].to_numpy()\n",
    "Y_train = train_data.iloc[:,-1].to_numpy()\n",
    "X_test = test_data.iloc[:, 4:].to_numpy()\n",
    "X_test"
   ]
  },
  {
   "cell_type": "code",
   "execution_count": 78,
   "metadata": {},
   "outputs": [],
   "source": [
    "def one_hard_encoding(data):\n",
    "    classes = set(data)\n",
    "    class_dict = {}\n",
    "    N = len(data)\n",
    "    K = len(classes)\n",
    "    ohe = np.zeros((N, K))\n",
    "    for i, clas in zip(range(K), classes):\n",
    "        class_dict[clas] = i\n",
    "    for i in range(N):\n",
    "        ohe[i, class_dict[data[i]]] = 1\n",
    "    return ohe\n",
    "    "
   ]
  },
  {
   "cell_type": "code",
   "execution_count": 79,
   "metadata": {},
   "outputs": [],
   "source": [
    "X_train = np.concatenate([one_hard_encoding(X_train[:, 0]), X_train[:, 1:4], one_hard_encoding(X_train[:, 4]), X_train[:, 5:]], axis=1).astype(np.float32)\n",
    "X_test = np.concatenate([one_hard_encoding(X_test[:, 0]), X_test[:, 1:4], one_hard_encoding(X_test[:, 4]), X_test[:, 5:]], axis=1).astype(np.float32)"
   ]
  },
  {
   "cell_type": "code",
   "execution_count": 80,
   "metadata": {},
   "outputs": [],
   "source": [
    "scaler = StandardScaler()\n",
    "X_train = scaler.fit_transform(X_train)\n",
    "X_test = scaler.transform(X_test)"
   ]
  },
  {
   "cell_type": "code",
   "execution_count": 81,
   "metadata": {},
   "outputs": [],
   "source": [
    "class ANN(tf.keras.Model):\n",
    "    def __init__(self, hidden_layer_sizes, p_keep):\n",
    "        super(ANN, self).__init__()\n",
    "        self.hidden_layers = []\n",
    "        self.dropout_rates = p_keep\n",
    "\n",
    "        M1 = X_train.shape[1] \n",
    "        for M2 in hidden_layer_sizes:\n",
    "            self.hidden_layers.append(tf.keras.layers.Dense(M2, activation='relu'))\n",
    "            self.hidden_layers.append(tf.keras.layers.Dropout(self.dropout_rates[0]))  # Apply dropout after each hidden layer\n",
    "            self.dropout_rates = self.dropout_rates[1:]  # Update dropout rate for next layers\n",
    "\n",
    "        self.output_layer = tf.keras.layers.Dense(1)\n",
    "\n",
    "    def call(self, inputs, training=False):\n",
    "        x = inputs\n",
    "        for layer in self.hidden_layers:\n",
    "            x = layer(x, training=training)\n",
    "        return self.output_layer(x)\n",
    "    \n",
    "    def r_squared(y_true, y_pred):\n",
    "        residual = tf.reduce_sum(tf.square(y_true - y_pred))\n",
    "        total = tf.reduce_sum(tf.square(y_true - tf.reduce_mean(y_true)))\n",
    "        r2 = 1 - residual / (total + tf.keras.backend.epsilon())\n",
    "        return r2\n",
    "\n",
    "    def fit_model(self, X, Y, lr=1e-2, epochs=1000, batch_sz=50, X_val=None, Y_val=None):\n",
    "        self.compile(optimizer=tf.keras.optimizers.Adam(learning_rate=lr),\n",
    "                    loss='mse', metrics=['mae', r_squared])\n",
    "\n",
    "        callbacks = [\n",
    "            EarlyStopping(monitor='val_loss', patience=10, restore_best_weights=True)\n",
    "        ]\n",
    "\n",
    "        self.fit(X, Y, \n",
    "                validation_data=(X_val, Y_val), \n",
    "                epochs=epochs, \n",
    "                batch_size=batch_sz, \n",
    "                callbacks=callbacks, \n",
    "                verbose=1)\n"
   ]
  },
  {
   "cell_type": "code",
   "execution_count": null,
   "metadata": {},
   "outputs": [],
   "source": [
    "submission = None\n",
    "def main():\n",
    "    global submission\n",
    "    ann = ANN([4000, 4000], [0.8, 0.5, 0.5])\n",
    "\n",
    "    ann.compile(optimizer=tf.keras.optimizers.SGD(learning_rate=1e-2),\n",
    "                loss='mse', metrics=['mae']) \n",
    "    ann.fit(X_train, Y_train)\n",
    "    predictions = ann.predict(X_test)\n",
    "    submission = pd.DataFrame({'GPA': predictions.reshape(len(predictions))})\n",
    "if __name__ == '__main__':\n",
    "    main()\n"
   ]
  }
 ],
 "metadata": {
  "kernelspec": {
   "display_name": "Python 3",
   "language": "python",
   "name": "python3"
  },
  "language_info": {
   "codemirror_mode": {
    "name": "ipython",
    "version": 3
   },
   "file_extension": ".py",
   "mimetype": "text/x-python",
   "name": "python",
   "nbconvert_exporter": "python",
   "pygments_lexer": "ipython3",
   "version": "3.12.7"
  }
 },
 "nbformat": 4,
 "nbformat_minor": 2
}
